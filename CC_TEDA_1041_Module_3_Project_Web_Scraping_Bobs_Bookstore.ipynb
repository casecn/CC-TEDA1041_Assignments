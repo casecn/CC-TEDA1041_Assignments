{
 "cells": [
  {
   "cell_type": "markdown",
   "id": "f4dc3514-88d9-4b9b-850d-52d162684d80",
   "metadata": {},
   "source": [
    "# Module 3 Practice\n",
    "## Name: Craig Case\n",
    "#### Started: Oct 7 at 7:04pm\n",
    "## Quiz Instructions\n",
    "In this quiz, you will walk through building a web scraper that pulls data from the internet into a pandas dataframe for analysis. The link that you will be using to practice is this URL: https://btech-data-analytics.github.io/bridgerland-technical-college/employees_3.html Links to an external site..\n",
    "\n",
    "Go to the page shown above and observe the table of data on the page. In this project, you will follow along with the videos to scrape this data into a pandas dataframe. Afterwards, you will computer some summary statistics on the data set."
   ]
  },
  {
   "cell_type": "code",
   "execution_count": 1,
   "id": "5fc9ca19-00ab-4995-8f9a-ed8ac4ac5d14",
   "metadata": {},
   "outputs": [],
   "source": [
    "import pandas as pd\n",
    "from bs4 import BeautifulSoup\n",
    "import requests"
   ]
  },
  {
   "cell_type": "code",
   "execution_count": 6,
   "id": "3a2b325e-4f91-45b8-a20c-69066d74912a",
   "metadata": {},
   "outputs": [],
   "source": [
    "response = requests.get('https://btech-data-analytics.github.io/bridgerland-technical-college/employees_3.html').text"
   ]
  },
  {
   "cell_type": "code",
   "execution_count": 7,
   "id": "57737897-9deb-44ac-b318-c5a73da4fa3b",
   "metadata": {},
   "outputs": [],
   "source": [
    "soup = BeautifulSoup(response, 'html.parser')"
   ]
  },
  {
   "cell_type": "code",
   "execution_count": 8,
   "id": "58e40ae0-97f9-4499-8779-bf4318ea1782",
   "metadata": {
    "collapsed": true,
    "jupyter": {
     "outputs_hidden": true
    }
   },
   "outputs": [
    {
     "data": {
      "text/plain": [
       "<!DOCTYPE html>\n",
       "\n",
       "<html>\n",
       "<head>\n",
       "<title>Employees Table</title>\n",
       "<style>\n",
       "        table {\n",
       "            border-collapse: collapse;\n",
       "            width: 50%;\n",
       "            margin: 20px auto;\n",
       "            font-family: 'Gill Sans', 'Gill Sans MT', Calibri, 'Trebuchet MS', sans-serif;\n",
       "        }\n",
       "        th, td {\n",
       "            border: 1px solid #ddd;\n",
       "            padding: 8px;\n",
       "            text-align: left;\n",
       "        }\n",
       "        tr:nth-child(odd) {\n",
       "            background-color: #ddd;\n",
       "        }\n",
       "        tr:nth-child(odd):hover {\n",
       "            background-color: #ccc;\n",
       "        }\n",
       "        tr:nth-child(even):hover {\n",
       "            background-color: #eee;\n",
       "        }\n",
       "        th {\n",
       "            cursor: pointer;\n",
       "            background-color: #222;\n",
       "            color: #eee\n",
       "        }\n",
       "        th:hover {\n",
       "            background-color: #333;\n",
       "        }\n",
       "        h1{\n",
       "            text-align: center;\n",
       "            font-family: 'Franklin Gothic Medium', 'Arial Narrow', Arial, sans-serif;\n",
       "            font-size: 80px;\n",
       "            font-kerning: normal;\n",
       "            color: #7d231f;\n",
       "            \n",
       "        }\n",
       "        h2{\n",
       "            text-align: center;\n",
       "            font-family: 'Franklin Gothic Medium', 'Arial Narrow', Arial, sans-serif;\n",
       "            font-size: 60px;\n",
       "            font-kerning: normal;\n",
       "            color: #4e0c09;\n",
       "            \n",
       "        }\n",
       "        p {\n",
       "            font-family: 'Courier New', Courier, monospace;\n",
       "            font-size: large;\n",
       "        }\n",
       "    </style>\n",
       "</head>\n",
       "<body>\n",
       "<p>This page was created using HTML, CSS, and JavaScript. The HTML code provides the structure of the page, the CSS determines how each element should be formatted, and JavaScript determines how the user can interact with the web page. In this case, JavaScript allows users to click the column names of the table below to sort the data.</p>\n",
       "<h1>Employees</h1>\n",
       "<table id=\"data-table\">\n",
       "<thead>\n",
       "<tr>\n",
       "<th onclick=\"sortTable(0)\">ID</th>\n",
       "<th onclick=\"sortTable(1)\">Name</th>\n",
       "<th onclick=\"sortTable(2)\">Age</th>\n",
       "</tr>\n",
       "</thead>\n",
       "<tbody>\n",
       "<tr class=\"employee\">\n",
       "<td>101</td>\n",
       "<td>John Doe</td>\n",
       "<td>28</td>\n",
       "</tr>\n",
       "<tr class=\"employee\">\n",
       "<td>102</td>\n",
       "<td>Jane Smith</td>\n",
       "<td>32</td>\n",
       "</tr>\n",
       "<tr class=\"employee\">\n",
       "<td>103</td>\n",
       "<td>Robert Johnson</td>\n",
       "<td>24</td>\n",
       "</tr>\n",
       "<tr class=\"employee\">\n",
       "<td>104</td>\n",
       "<td>Mary Johnson</td>\n",
       "<td>29</td>\n",
       "</tr>\n",
       "<tr class=\"employee\">\n",
       "<td>105</td>\n",
       "<td>Michael Brown</td>\n",
       "<td>35</td>\n",
       "</tr>\n",
       "<tr class=\"employee\">\n",
       "<td>106</td>\n",
       "<td>Susan Davis</td>\n",
       "<td>27</td>\n",
       "</tr>\n",
       "<tr class=\"employee\">\n",
       "<td>107</td>\n",
       "<td>David Wilson</td>\n",
       "<td>31</td>\n",
       "</tr>\n",
       "<tr class=\"employee\">\n",
       "<td>108</td>\n",
       "<td>Linda Miller</td>\n",
       "<td>33</td>\n",
       "</tr>\n",
       "</tbody>\n",
       "</table>\n",
       "<h2>Why it's important</h2>\n",
       "<p>As you might be able to see, the actual data of this web page is stored in the HTML code. Both CSS and JavaScript have nothing to do with the actual data itself, but mostly just make the page look and work better. Thus, for web scraping the data from this page, only a knowledge of HTML is required.</p>\n",
       "<p>However, more modern websites don't always deliver the data in nice HTML tables. CSS is often used as a locator to locate the data inside of a particular table. Furthermore, more and more websites nowadays deliver empty HTML pages that are later populated with JavaScript processes to stop others from web scraping their sites. These issues are important to know about when performing web scraping.</p>\n",
       "<script>\n",
       "        function sortTable(column) {\n",
       "            var table, rows, switching, i, x, y, shouldSwitch;\n",
       "            table = document.getElementById(\"data-table\");\n",
       "            switching = true;\n",
       "\n",
       "            while (switching) {\n",
       "                switching = false;\n",
       "                rows = table.rows;\n",
       "\n",
       "                for (i = 1; i < (rows.length - 1); i++) {\n",
       "                    shouldSwitch = false;\n",
       "                    x = rows[i].getElementsByTagName(\"td\")[column];\n",
       "                    y = rows[i + 1].getElementsByTagName(\"td\")[column];\n",
       "\n",
       "                    if (x.innerHTML.toLowerCase() > y.innerHTML.toLowerCase()) {\n",
       "                        shouldSwitch = true;\n",
       "                        break;\n",
       "                    }\n",
       "                }\n",
       "\n",
       "                if (shouldSwitch) {\n",
       "                    rows[i].parentNode.insertBefore(rows[i + 1], rows[i]);\n",
       "                    switching = true;\n",
       "                }\n",
       "            }\n",
       "        }\n",
       "    </script>\n",
       "</body>\n",
       "</html>"
      ]
     },
     "execution_count": 8,
     "metadata": {},
     "output_type": "execute_result"
    }
   ],
   "source": [
    "soup"
   ]
  },
  {
   "cell_type": "code",
   "execution_count": 10,
   "id": "647713b8-d42c-4aae-bf45-036ac69711df",
   "metadata": {
    "collapsed": true,
    "jupyter": {
     "outputs_hidden": true
    }
   },
   "outputs": [
    {
     "data": {
      "text/plain": [
       "<table id=\"data-table\">\n",
       "<thead>\n",
       "<tr>\n",
       "<th onclick=\"sortTable(0)\">ID</th>\n",
       "<th onclick=\"sortTable(1)\">Name</th>\n",
       "<th onclick=\"sortTable(2)\">Age</th>\n",
       "</tr>\n",
       "</thead>\n",
       "<tbody>\n",
       "<tr class=\"employee\">\n",
       "<td>101</td>\n",
       "<td>John Doe</td>\n",
       "<td>28</td>\n",
       "</tr>\n",
       "<tr class=\"employee\">\n",
       "<td>102</td>\n",
       "<td>Jane Smith</td>\n",
       "<td>32</td>\n",
       "</tr>\n",
       "<tr class=\"employee\">\n",
       "<td>103</td>\n",
       "<td>Robert Johnson</td>\n",
       "<td>24</td>\n",
       "</tr>\n",
       "<tr class=\"employee\">\n",
       "<td>104</td>\n",
       "<td>Mary Johnson</td>\n",
       "<td>29</td>\n",
       "</tr>\n",
       "<tr class=\"employee\">\n",
       "<td>105</td>\n",
       "<td>Michael Brown</td>\n",
       "<td>35</td>\n",
       "</tr>\n",
       "<tr class=\"employee\">\n",
       "<td>106</td>\n",
       "<td>Susan Davis</td>\n",
       "<td>27</td>\n",
       "</tr>\n",
       "<tr class=\"employee\">\n",
       "<td>107</td>\n",
       "<td>David Wilson</td>\n",
       "<td>31</td>\n",
       "</tr>\n",
       "<tr class=\"employee\">\n",
       "<td>108</td>\n",
       "<td>Linda Miller</td>\n",
       "<td>33</td>\n",
       "</tr>\n",
       "</tbody>\n",
       "</table>"
      ]
     },
     "execution_count": 10,
     "metadata": {},
     "output_type": "execute_result"
    }
   ],
   "source": [
    "soup.find('table')"
   ]
  },
  {
   "cell_type": "code",
   "execution_count": 43,
   "id": "f2c2e560-25e6-486f-9827-a8c4938323a0",
   "metadata": {},
   "outputs": [],
   "source": [
    "id = []\n",
    "name = []\n",
    "age = []\n",
    "\n",
    "for employee in soup.find('table').find_all('tr', class_='employee'):\n",
    "    td_emp = employee.find_all('td')\n",
    "    id.append(td_emp[0].text)\n",
    "    name.append(td_emp[1].text)\n",
    "    age.append(td_emp[2].text)\n"
   ]
  },
  {
   "cell_type": "code",
   "execution_count": 36,
   "id": "41eb2e88-8fb0-4118-976f-75fad0ebb59a",
   "metadata": {
    "scrolled": true
   },
   "outputs": [
    {
     "data": {
      "text/plain": [
       "['101', '102', '103', '104', '105', '106', '107', '108']"
      ]
     },
     "execution_count": 36,
     "metadata": {},
     "output_type": "execute_result"
    }
   ],
   "source": [
    "id"
   ]
  },
  {
   "cell_type": "code",
   "execution_count": 42,
   "id": "74e43f92-8699-4ffa-9edf-46a4690a33a7",
   "metadata": {},
   "outputs": [
    {
     "data": {
      "text/plain": [
       "['John Doe',\n",
       " 'Jane Smith',\n",
       " 'Robert Johnson',\n",
       " 'Mary Johnson',\n",
       " 'Michael Brown',\n",
       " 'Susan Davis',\n",
       " 'David Wilson',\n",
       " 'Linda Miller']"
      ]
     },
     "execution_count": 42,
     "metadata": {},
     "output_type": "execute_result"
    }
   ],
   "source": [
    "name"
   ]
  },
  {
   "cell_type": "code",
   "execution_count": 32,
   "id": "ad2950a2-f6f5-4110-8954-d72f59a2e457",
   "metadata": {},
   "outputs": [
    {
     "data": {
      "text/plain": [
       "['28', '32', '24', '29', '35', '27', '31', '33']"
      ]
     },
     "execution_count": 32,
     "metadata": {},
     "output_type": "execute_result"
    }
   ],
   "source": [
    "age"
   ]
  },
  {
   "cell_type": "code",
   "execution_count": 46,
   "id": "e0d4cca1-a0da-473f-ae08-cfaaefa1291c",
   "metadata": {},
   "outputs": [
    {
     "data": {
      "text/html": [
       "<div>\n",
       "<style scoped>\n",
       "    .dataframe tbody tr th:only-of-type {\n",
       "        vertical-align: middle;\n",
       "    }\n",
       "\n",
       "    .dataframe tbody tr th {\n",
       "        vertical-align: top;\n",
       "    }\n",
       "\n",
       "    .dataframe thead th {\n",
       "        text-align: right;\n",
       "    }\n",
       "</style>\n",
       "<table border=\"1\" class=\"dataframe\">\n",
       "  <thead>\n",
       "    <tr style=\"text-align: right;\">\n",
       "      <th></th>\n",
       "      <th>id</th>\n",
       "      <th>name</th>\n",
       "      <th>age</th>\n",
       "    </tr>\n",
       "  </thead>\n",
       "  <tbody>\n",
       "    <tr>\n",
       "      <th>0</th>\n",
       "      <td>101</td>\n",
       "      <td>John Doe</td>\n",
       "      <td>28</td>\n",
       "    </tr>\n",
       "    <tr>\n",
       "      <th>1</th>\n",
       "      <td>102</td>\n",
       "      <td>Jane Smith</td>\n",
       "      <td>32</td>\n",
       "    </tr>\n",
       "    <tr>\n",
       "      <th>2</th>\n",
       "      <td>103</td>\n",
       "      <td>Robert Johnson</td>\n",
       "      <td>24</td>\n",
       "    </tr>\n",
       "    <tr>\n",
       "      <th>3</th>\n",
       "      <td>104</td>\n",
       "      <td>Mary Johnson</td>\n",
       "      <td>29</td>\n",
       "    </tr>\n",
       "    <tr>\n",
       "      <th>4</th>\n",
       "      <td>105</td>\n",
       "      <td>Michael Brown</td>\n",
       "      <td>35</td>\n",
       "    </tr>\n",
       "    <tr>\n",
       "      <th>5</th>\n",
       "      <td>106</td>\n",
       "      <td>Susan Davis</td>\n",
       "      <td>27</td>\n",
       "    </tr>\n",
       "    <tr>\n",
       "      <th>6</th>\n",
       "      <td>107</td>\n",
       "      <td>David Wilson</td>\n",
       "      <td>31</td>\n",
       "    </tr>\n",
       "    <tr>\n",
       "      <th>7</th>\n",
       "      <td>108</td>\n",
       "      <td>Linda Miller</td>\n",
       "      <td>33</td>\n",
       "    </tr>\n",
       "  </tbody>\n",
       "</table>\n",
       "</div>"
      ],
      "text/plain": [
       "    id            name age\n",
       "0  101        John Doe  28\n",
       "1  102      Jane Smith  32\n",
       "2  103  Robert Johnson  24\n",
       "3  104    Mary Johnson  29\n",
       "4  105   Michael Brown  35\n",
       "5  106     Susan Davis  27\n",
       "6  107    David Wilson  31\n",
       "7  108    Linda Miller  33"
      ]
     },
     "execution_count": 46,
     "metadata": {},
     "output_type": "execute_result"
    }
   ],
   "source": [
    "df = pd.DataFrame({\n",
    "    'id': id,\n",
    "    'name': name,\n",
    "    'age': age\n",
    "})\n",
    "df"
   ]
  },
  {
   "cell_type": "code",
   "execution_count": 47,
   "id": "c2d92f73-7933-48a3-9144-23e7c30302c2",
   "metadata": {},
   "outputs": [],
   "source": [
    "df['id'] = df['id'].astype(int)\n",
    "df['age'] = df['age'].astype(int)"
   ]
  },
  {
   "cell_type": "code",
   "execution_count": 48,
   "id": "631a2d60-295d-4e15-ac6d-0cf07b52b757",
   "metadata": {},
   "outputs": [
    {
     "name": "stdout",
     "output_type": "stream",
     "text": [
      "<class 'pandas.core.frame.DataFrame'>\n",
      "RangeIndex: 8 entries, 0 to 7\n",
      "Data columns (total 3 columns):\n",
      " #   Column  Non-Null Count  Dtype \n",
      "---  ------  --------------  ----- \n",
      " 0   id      8 non-null      int64 \n",
      " 1   name    8 non-null      object\n",
      " 2   age     8 non-null      int64 \n",
      "dtypes: int64(2), object(1)\n",
      "memory usage: 324.0+ bytes\n"
     ]
    }
   ],
   "source": [
    "df.info()"
   ]
  },
  {
   "cell_type": "code",
   "execution_count": 50,
   "id": "f3705b5b-1b92-49f1-9fc4-4d1eed5a6a5f",
   "metadata": {},
   "outputs": [
    {
     "data": {
      "text/plain": [
       "np.float64(29.875)"
      ]
     },
     "execution_count": 50,
     "metadata": {},
     "output_type": "execute_result"
    }
   ],
   "source": [
    "mean_age = df['age'].mean()\n",
    "mean_age"
   ]
  },
  {
   "cell_type": "code",
   "execution_count": 53,
   "id": "55615213-2a25-4944-bdf4-59c4ab6512cc",
   "metadata": {},
   "outputs": [
    {
     "data": {
      "text/plain": [
       "np.float64(3.56)"
      ]
     },
     "execution_count": 53,
     "metadata": {},
     "output_type": "execute_result"
    }
   ],
   "source": [
    "# Standard Deviation for `age`\n",
    "std_age = df['age'].std()\n",
    "round(std_age,2)"
   ]
  }
 ],
 "metadata": {
  "kernelspec": {
   "display_name": "Python 3 (ipykernel)",
   "language": "python",
   "name": "python3"
  },
  "language_info": {
   "codemirror_mode": {
    "name": "ipython",
    "version": 3
   },
   "file_extension": ".py",
   "mimetype": "text/x-python",
   "name": "python",
   "nbconvert_exporter": "python",
   "pygments_lexer": "ipython3",
   "version": "3.13.7"
  }
 },
 "nbformat": 4,
 "nbformat_minor": 5
}
